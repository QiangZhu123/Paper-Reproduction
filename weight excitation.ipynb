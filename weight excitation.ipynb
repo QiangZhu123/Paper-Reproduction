{
 "cells": [
  {
   "cell_type": "code",
   "execution_count": 14,
   "id": "d1cdf191",
   "metadata": {},
   "outputs": [],
   "source": [
    "import torch\n",
    "from torch import nn \n",
    "import torch.nn.functional as F\n",
    "import numpy as np"
   ]
  },
  {
   "cell_type": "code",
   "execution_count": 3,
   "id": "966a2dcb",
   "metadata": {},
   "outputs": [],
   "source": [
    "class WeightConv(nn.Conv2d):\n",
    "    \"\"\"\n",
    "    继承nn.Conv2d，计算weight\n",
    "    \n",
    "    \"\"\"\n",
    "    def __init__(self,in_channels,\n",
    "                out_channels,\n",
    "                kernel,\n",
    "                stride=1,\n",
    "                pad=0,\n",
    "                dilation=1,\n",
    "                group=1,\n",
    "                ratio=16):\n",
    "        super().__init__(in_channels,\n",
    "                         out_channels,\n",
    "                         kernel,\n",
    "                         stride=stride,\n",
    "                         padding=pad,\n",
    "                         dilation=dilation,\n",
    "                         groups=group)\n",
    "        self.conv1=nn.Conv2d(in_channels,in_channels//ratio,1,1)\n",
    "        self.act2 = nn.Sigmoid()\n",
    "        self.conv2 = nn.Conv2d(in_channels//ratio,in_channels,1,1)\n",
    "        self.act1 = nn.ReLU()\n",
    "    def forward(self,x):\n",
    "        scale = self.conv1(self.weight)\n",
    "        scale = self.act1(scale)\n",
    "        scale= self.conv2(scale)\n",
    "        scale = self.act2(scale)\n",
    "        \n",
    "        weight = self.weight*scale\n",
    "        \n",
    "        return F.conv2d(x,\n",
    "                        weight,\n",
    "                        stride=self.stride,\n",
    "                        padding=self.padding,\n",
    "                        dilation=self.dilation,\n",
    "                        groups=self.groups)"
   ]
  },
  {
   "cell_type": "code",
   "execution_count": 4,
   "id": "942885bc",
   "metadata": {},
   "outputs": [],
   "source": [
    "a =torch.randn(1,32,5,5)\n",
    "test =WeightConv(32,20,3)"
   ]
  },
  {
   "cell_type": "code",
   "execution_count": 5,
   "id": "2cf5b394",
   "metadata": {},
   "outputs": [],
   "source": [
    "out =test(a)"
   ]
  },
  {
   "cell_type": "code",
   "execution_count": 7,
   "id": "b9e12ad6",
   "metadata": {},
   "outputs": [
    {
     "data": {
      "text/plain": [
       "torch.Size([20, 32, 3, 3])"
      ]
     },
     "execution_count": 7,
     "metadata": {},
     "output_type": "execute_result"
    }
   ],
   "source": [
    "test.weight.shape"
   ]
  },
  {
   "cell_type": "code",
   "execution_count": 33,
   "id": "ef519f5c",
   "metadata": {},
   "outputs": [
    {
     "data": {
      "text/plain": [
       "torch.Size([1, 20, 3, 3])"
      ]
     },
     "execution_count": 33,
     "metadata": {},
     "output_type": "execute_result"
    }
   ],
   "source": [
    "out.shape"
   ]
  },
  {
   "cell_type": "markdown",
   "id": "954ed672",
   "metadata": {},
   "source": [
    "# MWE"
   ]
  },
  {
   "cell_type": "code",
   "execution_count": 8,
   "id": "db05ae66",
   "metadata": {},
   "outputs": [],
   "source": [
    "def magnitude_based_weight_excitation(inputs,\n",
    "                                     weight,\n",
    "                                     stride=1,\n",
    "                                     pad=0,\n",
    "                                     groups=1,\n",
    "                                     dilation=1,\n",
    "                                     bias=False,eps=0.1):\n",
    "    \"\"\"\n",
    "    标准化针对每一个卷积kernel,指定维度是1，2，3\n",
    "    \n",
    "    \"\"\"\n",
    "    mean = weight.mean(dim=(1,2,3),keepdim=True)\n",
    "    std = weight.var(dim = (1,2,3),keepdim=True)\n",
    "    weight= (weight-mean)/(torch.pow(std,0.5)+1e-5)\n",
    "    maxvalue =torch.max(weight)\n",
    "    ma = (1+eps)*maxvalue\n",
    "    weight = ma*0.5*torch.log(1+weight/ma)/(1-weight/ma)\n",
    "    \n",
    "    return F.conv2d(inputs,weight,stride=stride,padding=pad,groups=groups,dilation=dilation)"
   ]
  },
  {
   "cell_type": "code",
   "execution_count": 9,
   "id": "d4b536b8",
   "metadata": {},
   "outputs": [],
   "source": [
    "class MWEConv(nn.Conv2d):\n",
    "    def __init__(self,in_channels,\n",
    "                out_channels,\n",
    "            kernel, \n",
    "            stride=1,\n",
    "             pad=0,\n",
    "             groups=1,\n",
    "             dilation=1,\n",
    "             bias=False,eps=0.1):\n",
    "        super().__init__(\n",
    "            in_channels,\n",
    "            out_channels,\n",
    "            kernel, \n",
    "            stride=1,\n",
    "            padding=0,\n",
    "            groups=1,\n",
    "            dilation=1,\n",
    "            bias=False,)\n",
    "        self.eps = eps\n",
    "        \n",
    "    def forward(self,x):\n",
    "        return magnitude_based_weight_excitation(x,self.weight,\n",
    "                                                self.stride,\n",
    "                                                self.padding,\n",
    "                                                self.groups,\n",
    "                                                 self.dilation,\n",
    "                                                 self.bias,eps=0.2\n",
    "                                                )"
   ]
  }
 ],
 "metadata": {
  "kernelspec": {
   "display_name": "Python 3 (ipykernel)",
   "language": "python",
   "name": "python3"
  },
  "language_info": {
   "codemirror_mode": {
    "name": "ipython",
    "version": 3
   },
   "file_extension": ".py",
   "mimetype": "text/x-python",
   "name": "python",
   "nbconvert_exporter": "python",
   "pygments_lexer": "ipython3",
   "version": "3.8.8"
  }
 },
 "nbformat": 4,
 "nbformat_minor": 5
}
