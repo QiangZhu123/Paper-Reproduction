{
 "cells": [
  {
   "cell_type": "code",
   "execution_count": 1,
   "id": "3ba4dcd3",
   "metadata": {},
   "outputs": [
    {
     "name": "stderr",
     "output_type": "stream",
     "text": [
      "c:\\users\\administrator\\appdata\\local\\programs\\python\\python38\\lib\\site-packages\\setuptools\\distutils_patch.py:25: UserWarning: Distutils was imported before Setuptools. This usage is discouraged and may exhibit undesirable behaviors or errors. Please use Setuptools' objects directly or at least import Setuptools first.\n",
      "  warnings.warn(\n",
      "c:\\users\\administrator\\appdata\\local\\programs\\python\\python38\\lib\\site-packages\\mmcv\\cnn\\bricks\\transformer.py:28: UserWarning: Fail to import ``MultiScaleDeformableAttention`` from ``mmcv.ops.multi_scale_deform_attn``, You should install ``mmcv-full`` if you need this module. \n",
      "  warnings.warn('Fail to import ``MultiScaleDeformableAttention`` from '\n"
     ]
    }
   ],
   "source": [
    "import torch\n",
    "from torch import nn\n",
    "from mmcls.models import ResNet"
   ]
  },
  {
   "cell_type": "code",
   "execution_count": 5,
   "id": "1da3b8c0",
   "metadata": {},
   "outputs": [],
   "source": [
    "resnet = ResNet(50,strides=(1, 2, 1, 1),dilations=(1, 1, 2, 4))"
   ]
  },
  {
   "cell_type": "code",
   "execution_count": 6,
   "id": "6206b226",
   "metadata": {},
   "outputs": [
    {
     "name": "stdout",
     "output_type": "stream",
     "text": [
      "torch.Size([1, 2048, 28, 28])\n"
     ]
    }
   ],
   "source": [
    "a =torch.randn(1,3,224,224)\n",
    "out =resnet(a)\n",
    "print(out[0].shape)"
   ]
  },
  {
   "cell_type": "code",
   "execution_count": 7,
   "id": "fd53786a",
   "metadata": {},
   "outputs": [],
   "source": [
    "class PPM(nn.Module):\n",
    "    def __init__(self,\n",
    "                 pool_scales, \n",
    "                 in_channels,\n",
    "                 channels, \n",
    "                 conv_cfg, \n",
    "                 norm_cfg,\n",
    "                 act_cfg, \n",
    "                 align_corners):\n",
    "        super(PPM, self).__init__()\n",
    "        self.pool_scales = pool_scales\n",
    "        self.align_corners = align_corners\n",
    "        self.in_channels = in_channels\n",
    "        self.channels = channels\n",
    "        self.conv_cfg = conv_cfg\n",
    "        self.norm_cfg = norm_cfg\n",
    "        self.act_cfg = act_cfg\n",
    "        for pool_scale in pool_scales:\n",
    "            self.append(\n",
    "                nn.Sequential(\n",
    "                    nn.AdaptiveAvgPool2d(pool_scale),\n",
    "                    ConvModule(\n",
    "                        self.in_channels,\n",
    "                        self.channels,\n",
    "                        1,\n",
    "                        conv_cfg=self.conv_cfg,\n",
    "                        norm_cfg=self.norm_cfg,\n",
    "                        act_cfg=self.act_cfg)))\n",
    "\n",
    "    def forward(self, x):\n",
    "        \"\"\"Forward function.\"\"\"\n",
    "        ppm_outs = []\n",
    "        for ppm in self:\n",
    "            ppm_out = ppm(x)\n",
    "            upsampled_ppm_out = resize(\n",
    "                ppm_out,\n",
    "                size=x.size()[2:],\n",
    "                mode='bilinear',\n",
    "                align_corners=self.align_corners)\n",
    "            ppm_outs.append(upsampled_ppm_out)\n",
    "        return ppm_outs"
   ]
  },
  {
   "cell_type": "code",
   "execution_count": null,
   "id": "b55b9815",
   "metadata": {},
   "outputs": [],
   "source": []
  }
 ],
 "metadata": {
  "kernelspec": {
   "display_name": "Python 3 (ipykernel)",
   "language": "python",
   "name": "python3"
  },
  "language_info": {
   "codemirror_mode": {
    "name": "ipython",
    "version": 3
   },
   "file_extension": ".py",
   "mimetype": "text/x-python",
   "name": "python",
   "nbconvert_exporter": "python",
   "pygments_lexer": "ipython3",
   "version": "3.8.8"
  }
 },
 "nbformat": 4,
 "nbformat_minor": 5
}
