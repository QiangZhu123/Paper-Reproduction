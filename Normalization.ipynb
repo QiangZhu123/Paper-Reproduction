{
 "cells": [
  {
   "cell_type": "markdown",
   "id": "f51817fe",
   "metadata": {},
   "source": [
    "# Batch Normalization"
   ]
  },
  {
   "cell_type": "code",
   "execution_count": 1,
   "id": "423011e8",
   "metadata": {},
   "outputs": [],
   "source": [
    "import torch\n",
    "from torch import nn\n",
    "import numpy as np\n",
    "import matplotlib.pyplot as plt"
   ]
  },
  {
   "cell_type": "code",
   "execution_count": 462,
   "id": "5f952ea1",
   "metadata": {},
   "outputs": [],
   "source": [
    "class Batch_Norm(nn.Module):\n",
    "    def __init__(self,in_channels,eps=1e-05):\n",
    "        super().__init__()\n",
    "        self.r=nn.Parameter(torch.ones(1,in_channels,1,1)) \n",
    "        self.b = nn.Parameter(torch.zeros(1,in_channels,1,1))\n",
    "        self.eps =eps\n",
    "    def forward(self,x):\n",
    "        mean = x.mean(dim=(0,2,3), keepdim=True)\n",
    "        std = x.var(dim=(0,2,3),keepdim=True)\n",
    "        \n",
    "        return (x-mean)/torch.pow(std+self.eps,0.5)*self.r+self.b"
   ]
  },
  {
   "cell_type": "code",
   "execution_count": 463,
   "id": "c01b064d",
   "metadata": {},
   "outputs": [],
   "source": [
    "def checkBatch():\n",
    "    #张量越小,估计值越差，所以需要足够大才行\n",
    "    x = torch.randn(2,2,1000,1000)\n",
    "    \n",
    "    bn =nn.BatchNorm2d(2,affine=True)\n",
    "    \n",
    "    out = bn(x)\n",
    "    \n",
    "    mean = torch.mean(x,dim=(0,2,3),keepdim=True)\n",
    "    var = torch.var(x,dim=(0,2,3),keepdim=True)\n",
    "    \n",
    "    mybn = Batch_Norm(2)\n",
    "    myout = mybn(x)\n",
    "    #计算公式\n",
    "    calc =((x-mean)/torch.pow(var+1e-5,0.5))\n",
    "    if np.allclose(calc.detach().numpy(),out.detach().numpy()):\n",
    "        print('right')\n",
    "    else:\n",
    "        print('false')\n",
    "    if np.allclose(myout.detach().numpy(),out.detach().numpy()):\n",
    "        print('you are right')\n",
    "    else:\n",
    "        print('you are false')"
   ]
  },
  {
   "cell_type": "code",
   "execution_count": 464,
   "id": "69a81b51",
   "metadata": {},
   "outputs": [
    {
     "name": "stdout",
     "output_type": "stream",
     "text": [
      "right\n",
      "you are right\n"
     ]
    }
   ],
   "source": [
    "checkBatch()"
   ]
  },
  {
   "cell_type": "markdown",
   "id": "c93772b1",
   "metadata": {},
   "source": [
    "# Group Norm"
   ]
  },
  {
   "cell_type": "code",
   "execution_count": 9,
   "id": "db51ac47",
   "metadata": {},
   "outputs": [],
   "source": [
    "class Group_Norm(nn.Module):\n",
    "    def __init__(self,in_channels,\n",
    "                 G=2,\n",
    "                 eps=1e-05):\n",
    "        super().__init__()\n",
    "        self.r=nn.Parameter(torch.ones(1,in_channels,1,1)) \n",
    "        self.b = nn.Parameter(torch.zeros(1,in_channels,1,1))\n",
    "        self.eps =eps\n",
    "        self.G=G\n",
    "    def forward(self,x):\n",
    "        N,C,H,W=x.shape\n",
    "        x =x.view(N,self.G,C//self.G,H,W)\n",
    "        \n",
    "        mean = x.mean(dim=(2,3,4), keepdim=True)\n",
    "        std = x.var(dim=(2,3,4),keepdim=True)\n",
    "        \n",
    "        x = (x-mean)/torch.pow(std+self.eps,0.5)\n",
    "        x=x.view(N,C,H,W)\n",
    "        return self.r*x+self.b"
   ]
  },
  {
   "cell_type": "code",
   "execution_count": 18,
   "id": "5f55b9fe",
   "metadata": {},
   "outputs": [],
   "source": [
    "def checkGN():\n",
    "    x = torch.randn(3,64,200,200)\n",
    "    GN=nn.GroupNorm(2,64)\n",
    "    out = GN(x)\n",
    "    \n",
    "    mygn = Group_Norm(64)\n",
    "    myout = mygn(x)\n",
    "    \n",
    "    if np.allclose(out.detach().numpy(),myout.detach().numpy()):\n",
    "        print('right')\n",
    "    else:\n",
    "        print('wrong')"
   ]
  },
  {
   "cell_type": "code",
   "execution_count": 22,
   "id": "f24f5a4b",
   "metadata": {},
   "outputs": [
    {
     "name": "stdout",
     "output_type": "stream",
     "text": [
      "right\n"
     ]
    }
   ],
   "source": [
    "checkGN()"
   ]
  },
  {
   "cell_type": "code",
   "execution_count": null,
   "id": "82f55822",
   "metadata": {},
   "outputs": [],
   "source": []
  },
  {
   "cell_type": "code",
   "execution_count": null,
   "id": "0f24abab",
   "metadata": {},
   "outputs": [],
   "source": []
  }
 ],
 "metadata": {
  "kernelspec": {
   "display_name": "Python 3 (ipykernel)",
   "language": "python",
   "name": "python3"
  },
  "language_info": {
   "codemirror_mode": {
    "name": "ipython",
    "version": 3
   },
   "file_extension": ".py",
   "mimetype": "text/x-python",
   "name": "python",
   "nbconvert_exporter": "python",
   "pygments_lexer": "ipython3",
   "version": "3.8.8"
  }
 },
 "nbformat": 4,
 "nbformat_minor": 5
}
