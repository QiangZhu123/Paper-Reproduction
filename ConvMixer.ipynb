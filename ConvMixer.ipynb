{
 "cells": [
  {
   "cell_type": "code",
   "execution_count": 7,
   "id": "7b909a42",
   "metadata": {},
   "outputs": [],
   "source": [
    "import torch.nn as nn\n",
    "from torch.nn import *\n",
    "import torch\n",
    "class Residual(nn.Module):\n",
    "\n",
    "    def __init__(self, fn):\n",
    "        super().__init__()\n",
    "        self.fn = fn\n",
    "\n",
    "    def forward(self, x):\n",
    "\n",
    "        return self.fn(x) + x\n",
    "\n",
    "def ConvMixer(dim, depth, kernel_size=9, patch_size=7, n_classes=1000):\n",
    "\n",
    "    return nn.Sequential(\n",
    "        nn.Conv2d(3, dim, kernel_size=patch_size, stride=patch_size),\n",
    "        nn.GELU(),\n",
    "        nn.BatchNorm2d(dim),\n",
    "        *[nn.Sequential(\n",
    "        Residual(nn.Sequential(\n",
    "        nn.Conv2d(dim, dim, kernel_size, groups=dim, padding=\"same\"),\n",
    "        nn.GELU(),\n",
    "        nn.BatchNorm2d(dim))),\n",
    "        nn.Conv2d(dim, dim, kernel_size=1),\n",
    "        nn.GELU(),nn.BatchNorm2d(dim)) for i in range(depth)],\n",
    "        nn.AdaptiveAvgPool2d((1,1)),\n",
    "        nn.Flatten(),\n",
    "        nn.Linear(dim, n_classes))\n",
    "\n",
    "def ConvMixer(h,d,k,p,n):\n",
    "    '''\n",
    "     h = dim\n",
    "     d = depth\n",
    "     p = patch_size\n",
    "     k = kernel_size\n",
    "     n = classes\n",
    "    '''\n",
    "    S,C,A=Sequential,Conv2d,lambda x:S(x,GELU(),BatchNorm2d(h))\n",
    "    R=type('',(S,),{'forward':lambda s,x:s[0](x)+x})\n",
    "    return S(A(C(3,h,p,p)),*[S(R(A(C(h,h,k,groups=h,padding=k//2))),A(C(h,h,1))) for i in range(d)],AdaptiveAvgPool2d(1),Flatten(),Linear(h,n))"
   ]
  },
  {
   "cell_type": "code",
   "execution_count": 10,
   "id": "e8f65dfc",
   "metadata": {},
   "outputs": [],
   "source": [
    "model = ConvMixer(128,12,7,4,10)"
   ]
  },
  {
   "cell_type": "code",
   "execution_count": 11,
   "id": "27944995",
   "metadata": {},
   "outputs": [
    {
     "data": {
      "text/plain": [
       "tensor([[ 0.0176, -0.0163, -0.0297, -0.0864, -0.0406,  0.0803, -0.0438, -0.0213,\n",
       "         -0.0640, -0.0805]], grad_fn=<AddmmBackward0>)"
      ]
     },
     "execution_count": 11,
     "metadata": {},
     "output_type": "execute_result"
    }
   ],
   "source": [
    "model(torch.rand(1,3,224,224))"
   ]
  },
  {
   "cell_type": "code",
   "execution_count": 12,
   "id": "1e0f10fe",
   "metadata": {},
   "outputs": [],
   "source": [
    "inputs = torch.rand(1,3,224,224)\n",
    "model.eval()\n",
    "\n",
    "torch.onnx.export(model,inputs,'test.onnx')"
   ]
  },
  {
   "cell_type": "code",
   "execution_count": null,
   "id": "cee4c7f8",
   "metadata": {},
   "outputs": [],
   "source": []
  }
 ],
 "metadata": {
  "kernelspec": {
   "display_name": "Python 3 (ipykernel)",
   "language": "python",
   "name": "python3"
  },
  "language_info": {
   "codemirror_mode": {
    "name": "ipython",
    "version": 3
   },
   "file_extension": ".py",
   "mimetype": "text/x-python",
   "name": "python",
   "nbconvert_exporter": "python",
   "pygments_lexer": "ipython3",
   "version": "3.8.8"
  }
 },
 "nbformat": 4,
 "nbformat_minor": 5
}
