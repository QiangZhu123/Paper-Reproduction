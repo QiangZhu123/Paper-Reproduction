{
 "cells": [
  {
   "cell_type": "code",
   "execution_count": 7,
   "id": "755fb5bf",
   "metadata": {},
   "outputs": [],
   "source": [
    "import torch\n",
    "import numpy as np\n",
    "from PIL import Image\n",
    "import matplotlib.pyplot as plt\n",
    "from torchvision import models\n",
    "from torch import nn"
   ]
  },
  {
   "cell_type": "code",
   "execution_count": 2,
   "id": "1a55d9e4",
   "metadata": {},
   "outputs": [],
   "source": [
    "resnet = models.resnet18(pretrained=False)\n",
    "x= torch.randn(1,3,224,224)\n",
    "resnet.eval()\n",
    "torch.onnx.export(resnet,x,'resnet.onnx',input_names=['inputs'],\n",
    "                  dynamic_axes={\"inputs\":{0:'bathch',1:'channels'}})"
   ]
  },
  {
   "cell_type": "code",
   "execution_count": 23,
   "id": "0e4a7a67",
   "metadata": {},
   "outputs": [],
   "source": [
    "class BasicBlock(nn.Module):\n",
    "    def __init__(self,ins,outs):\n",
    "        super().__init__()\n",
    "        self.conv1 = nn.Conv2d(ins,outs,kernel_size=3,padding=1,stride = 1)\n",
    "        self.conv2 = nn.Conv2d(outs,outs,kernel_size=3,padding=1,stride = 1)\n",
    "        self.act =nn.ReLU()\n",
    "    \n",
    "    def forward(self,x):\n",
    "        residual = x\n",
    "        out = self.conv1(x)\n",
    "        out = self.act(out)\n",
    "        out = self.conv2(out)\n",
    "        return self.act(residual+out)\n",
    "class BottleBlock(nn.Module):\n",
    "    def __init__(self,ins,outs):\n",
    "        super().__init__()\n",
    "        self.bone = nn.Sequential(nn.Conv2d(ins,outs,kernel_size=3,padding=1,stride = 2),\n",
    "                                  nn.ReLU(),\n",
    "                                 nn.Conv2d(outs,outs,kernel_size=3,padding=1,stride = 1),\n",
    "                                 )\n",
    "        self.act =nn.ReLU()\n",
    "        self.conv  =nn.Conv2d(ins,outs,kernel_size=1,padding=0,stride=2)\n",
    "    def forward(self,x):\n",
    "        residule = x\n",
    "        out = self.bone(x)\n",
    "        return self.act(self.conv(residule)+ out)\n",
    "class Myresnet(nn.Module):\n",
    "    def __init__(self):\n",
    "        super().__init__()\n",
    "        self.stem =nn.Sequential(nn.Conv2d(3,64,kernel_size=7,padding=3,stride=2),\n",
    "                                nn.ReLU(),\n",
    "                                nn.MaxPool2d(kernel_size=3,stride=2,padding=1))\n",
    "        self.block =nn.Sequential(BasicBlock(64,64),\n",
    "                                  BasicBlock(64,64),\n",
    "                                 BottleBlock(64,128),\n",
    "                                 BasicBlock(128,128),\n",
    "                                 BottleBlock(128,256),BasicBlock(256,256),BottleBlock(256,512),\n",
    "                                 BasicBlock(512,512),)\n",
    "        self.pool = nn.AdaptiveAvgPool2d(1)\n",
    "        self.fc = nn.Linear(512,1000)\n",
    "    def forward(self,x):\n",
    "        out = self.stem(x)\n",
    "        out = self.block(out)\n",
    "        \n",
    "        out = self.pool(out)\n",
    "        out =nn.Flatten()(out)\n",
    "\n",
    "        out = self.fc(out)\n",
    "        return out\n",
    "        "
   ]
  },
  {
   "cell_type": "code",
   "execution_count": 24,
   "id": "da1a90f9",
   "metadata": {},
   "outputs": [],
   "source": [
    "testmode = Myresnet()\n",
    "x =torch.randn(1,3,224,224)\n",
    "testmode.eval()\n",
    "torch.onnx.export(testmode,x,'test.onnx',input_names=['inputs'],\n",
    "                 dynamic_axes={'inputs':{0:'batch',1:'channels'}})"
   ]
  },
  {
   "cell_type": "code",
   "execution_count": null,
   "id": "fa8f50e9",
   "metadata": {},
   "outputs": [],
   "source": []
  }
 ],
 "metadata": {
  "kernelspec": {
   "display_name": "Python 3 (ipykernel)",
   "language": "python",
   "name": "python3"
  },
  "language_info": {
   "codemirror_mode": {
    "name": "ipython",
    "version": 3
   },
   "file_extension": ".py",
   "mimetype": "text/x-python",
   "name": "python",
   "nbconvert_exporter": "python",
   "pygments_lexer": "ipython3",
   "version": "3.8.8"
  }
 },
 "nbformat": 4,
 "nbformat_minor": 5
}
