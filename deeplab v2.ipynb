{
 "cells": [
  {
   "cell_type": "code",
   "execution_count": 1,
   "id": "d222d8f7",
   "metadata": {},
   "outputs": [
    {
     "name": "stderr",
     "output_type": "stream",
     "text": [
      "c:\\users\\administrator\\appdata\\local\\programs\\python\\python38\\lib\\site-packages\\setuptools\\distutils_patch.py:25: UserWarning: Distutils was imported before Setuptools. This usage is discouraged and may exhibit undesirable behaviors or errors. Please use Setuptools' objects directly or at least import Setuptools first.\n",
      "  warnings.warn(\n"
     ]
    }
   ],
   "source": [
    "import torch\n",
    "from torch import nn\n",
    "from mmcv.cnn.bricks.conv_module import ConvModule\n",
    "from torchvision import models"
   ]
  },
  {
   "cell_type": "code",
   "execution_count": 7,
   "id": "959c8b4f",
   "metadata": {},
   "outputs": [],
   "source": [
    "class ASPP(nn.Module):\n",
    "    \n",
    "    def __init__(self,ratio,in_channels):\n",
    "        super().__init__()\n",
    "        self.layers=nn.ModuleList()\n",
    "        for i in ratio:\n",
    "            self.layers.append(nn.Conv2d(in_channels,in_channels//len(ratio),kernel_size=3,stride=1,padding=i,dilation=i))\n",
    "        \n",
    "    def forward(self,x):\n",
    "        out =[]\n",
    "        for layer in self.layers:\n",
    "            temp=layer(x)\n",
    "            out.append(temp)\n",
    "        return torch.cat(out,dim=1)"
   ]
  },
  {
   "cell_type": "code",
   "execution_count": 10,
   "id": "07072b65",
   "metadata": {},
   "outputs": [
    {
     "name": "stdout",
     "output_type": "stream",
     "text": [
      "torch.Size([1, 16, 32, 32])\n"
     ]
    }
   ],
   "source": [
    "test =ASPP([6,12,18,24],16)\n",
    "x = torch.randn(1,16,32,32)\n",
    "out =test(x)\n",
    "print(out.shape)"
   ]
  },
  {
   "cell_type": "code",
   "execution_count": 11,
   "id": "7b4e3b4a",
   "metadata": {},
   "outputs": [],
   "source": [
    "class Myvgg(nn.Module):\n",
    "    \n",
    "    def __init__(self,num_classes=21,\n",
    "                ratio=[6,12,18,24]):\n",
    "        super().__init__()\n",
    "        self.vgg=models.vgg16_bn(pretrained=False)\n",
    "        self.vgg.features[34]=nn.Conv2d(512, 512, kernel_size=(3, 3), stride=(1, 1), padding=(2, 2),dilation=2)\n",
    "        self.vgg.features[40]=nn.Conv2d(512, 512, kernel_size=(3, 3), stride=(1, 1), padding=(2, 2),dilation=2)\n",
    "        self.pre =nn.Sequential(self.vgg.features[:33])\n",
    "        self.mid = nn.Sequential(self.vgg.features[34:43])\n",
    "        self.aspp = ASPP(ratio,512)\n",
    "        self.classifier = nn.Sequential(nn.Conv2d(512,512,1),\n",
    "                                       nn.ReLU(True),\n",
    "                                       nn.Conv2d(512,512,1),\n",
    "                                       nn.ReLU(True),\n",
    "                                       nn.Conv2d(512,num_classes,1))\n",
    "    def forward(self,x):\n",
    "        out =self.pre(x)\n",
    "        out =self.mid(out)\n",
    "        out =self.aspp(out)\n",
    "  \n",
    "        out = self.classifier(out)\n",
    "        return out"
   ]
  },
  {
   "cell_type": "code",
   "execution_count": 13,
   "id": "f8b48ee4",
   "metadata": {},
   "outputs": [],
   "source": [
    "x = torch.randn(1,3,224,224)\n",
    "test=Myvgg()\n",
    "test.eval()\n",
    "torch.onnx.export(test,x,'test.onnx')"
   ]
  },
  {
   "cell_type": "code",
   "execution_count": null,
   "id": "34d6ae2c",
   "metadata": {},
   "outputs": [],
   "source": []
  }
 ],
 "metadata": {
  "kernelspec": {
   "display_name": "Python 3 (ipykernel)",
   "language": "python",
   "name": "python3"
  },
  "language_info": {
   "codemirror_mode": {
    "name": "ipython",
    "version": 3
   },
   "file_extension": ".py",
   "mimetype": "text/x-python",
   "name": "python",
   "nbconvert_exporter": "python",
   "pygments_lexer": "ipython3",
   "version": "3.8.8"
  }
 },
 "nbformat": 4,
 "nbformat_minor": 5
}
