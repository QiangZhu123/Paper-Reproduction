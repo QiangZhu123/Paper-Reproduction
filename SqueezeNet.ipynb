{
 "cells": [
  {
   "cell_type": "code",
   "execution_count": 8,
   "id": "515eb1d4",
   "metadata": {},
   "outputs": [],
   "source": [
    "import numpy as np\n",
    "import torch\n",
    "from torchvision import models \n",
    "from PIL import Image\n",
    "import matplotlib.pyplot as plt\n",
    "from torch import nn\n",
    "import onnx"
   ]
  },
  {
   "cell_type": "code",
   "execution_count": 5,
   "id": "978e7ea2",
   "metadata": {},
   "outputs": [],
   "source": [
    "squ = models.squeezenet1_0(pretrained=False)"
   ]
  },
  {
   "cell_type": "code",
   "execution_count": 6,
   "id": "7fd9c612",
   "metadata": {},
   "outputs": [],
   "source": [
    "x =torch.randn(1,3,224,224)\n",
    "squ.eval()\n",
    "torch.onnx.export(squ,x,'squeezenet.onnx',input_names=['inputs'],dynamic_axes={'inputs':{0:'batch'}})\n"
   ]
  },
  {
   "cell_type": "code",
   "execution_count": 9,
   "id": "9f65c3e0",
   "metadata": {},
   "outputs": [],
   "source": [
    "onnx.utils.extract_model('squeezenet.onnx','sub.onnx',['62'],['72'])"
   ]
  },
  {
   "cell_type": "code",
   "execution_count": 80,
   "id": "a3263a7d",
   "metadata": {},
   "outputs": [],
   "source": [
    "class FireBlock(nn.Module):\n",
    "    expands=4\n",
    "    base = 16\n",
    "    def __init__(self,ins,squeeze=1):\n",
    "        super().__init__()\n",
    "        self.act=nn.ReLU()\n",
    "        s_channel =self.base *squeeze \n",
    "        e_channel = s_channel*self.expands\n",
    "        self.s1x1 = nn.Conv2d(ins,s_channel,kernel_size=1,padding=0,stride=1)\n",
    "        self.e1x1 = nn.Conv2d(s_channel,e_channel,kernel_size=1,padding=0,stride=1)\n",
    "        self.e3x3 = nn.Conv2d(s_channel,e_channel,kernel_size=3,padding=1,stride=1)\n",
    "    \n",
    "    def forward(self,x):\n",
    "        out = self.s1x1(x)\n",
    "        out=self.act(out)\n",
    "        out = torch.cat((self.act(self.e1x1(out)),self.act(self.e3x3(out))),1)\n",
    "\n",
    "        return out\n",
    "\n",
    "class MySqueeze(nn.Module):\n",
    "    \n",
    "    def __init__(self,n_classes):\n",
    "        \n",
    "        super().__init__()\n",
    "        self.classes = n_classes\n",
    "        self.stem=nn.Sequential(\n",
    "            nn.Conv2d(3,96,kernel_size=7,padding=0,stride=2),\n",
    "                               nn.ReLU(),\n",
    "                               nn.MaxPool2d(kernel_size=(3,3),padding=(1,1),stride=(2,2))\n",
    "                               )\n",
    "        block1 = [FireBlock(96),FireBlock(128),FireBlock(128,2),nn.MaxPool2d(kernel_size=3,padding=1,stride=2)]\n",
    "        self.block1 = nn.Sequential(*block1)\n",
    "        block2 = [FireBlock(256,2),FireBlock(256,3),FireBlock(384,3),FireBlock(384,4),\n",
    "                 nn.MaxPool2d(kernel_size=3,padding=(1,1),stride=2)]\n",
    "        self.block2= nn.Sequential(*block2)\n",
    "        block3 = [FireBlock(512,4),\n",
    "                 nn.Conv2d(512,self.classes,kernel_size=1,padding=0,stride=1),\n",
    "                 nn.ReLU(),\n",
    "                 nn.AdaptiveAvgPool2d(1)\n",
    "                 ,nn.Flatten()]\n",
    "        self.block3 = nn.Sequential(*block3)\n",
    "    def forward(self,x):\n",
    "        out = self.stem(x)\n",
    "        out = self.block1(out)\n",
    "        out = self.block2(out)\n",
    "        out = self.block3(out)\n",
    "        return out\n",
    "        "
   ]
  },
  {
   "cell_type": "code",
   "execution_count": 81,
   "id": "bde972b7",
   "metadata": {},
   "outputs": [],
   "source": [
    "x =torch.randn(1,3,224,224)\n",
    "test= MySqueeze(1000)\n",
    "test.eval()\n",
    "torch.onnx.export(test,x,'block.onnx')"
   ]
  },
  {
   "cell_type": "code",
   "execution_count": null,
   "id": "b9796362",
   "metadata": {},
   "outputs": [],
   "source": []
  }
 ],
 "metadata": {
  "kernelspec": {
   "display_name": "Python 3 (ipykernel)",
   "language": "python",
   "name": "python3"
  },
  "language_info": {
   "codemirror_mode": {
    "name": "ipython",
    "version": 3
   },
   "file_extension": ".py",
   "mimetype": "text/x-python",
   "name": "python",
   "nbconvert_exporter": "python",
   "pygments_lexer": "ipython3",
   "version": "3.8.8"
  }
 },
 "nbformat": 4,
 "nbformat_minor": 5
}
