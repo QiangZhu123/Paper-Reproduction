{
 "cells": [
  {
   "cell_type": "code",
   "execution_count": 2,
   "id": "e761b349",
   "metadata": {},
   "outputs": [],
   "source": [
    "import torch\n",
    "from torch import nn"
   ]
  },
  {
   "cell_type": "code",
   "execution_count": 7,
   "id": "147c3ca6",
   "metadata": {},
   "outputs": [],
   "source": [
    "class Involution(nn.Module):\n",
    "    def __init__(self,in_channels,\n",
    "                out_channels,\n",
    "                 kernel,\n",
    "                ratio=16,\n",
    "                 stride=1,group=1,dilation=1,padding=1):\n",
    "        super().__init__()\n",
    "        self.G=group\n",
    "        self.K=kernel\n",
    "\n",
    "        self.o = nn.AvgPool2d(stride, stride) if stride > 1 else nn.Identity()\n",
    "        self.reduce = nn.Conv2d(in_channels,in_channels//ratio,1)\n",
    "        self.span = nn.Conv2d(in_channels//ratio, kernel*kernel*group, 1)\n",
    "        self.unfold = nn.Unfold(kernel, dilation, padding, stride)\n",
    "    def forward(self,x):\n",
    "        B,C,H,W=x.shape\n",
    "        x_unfolded = self.unfold(x) # B,CxKxK,HxW\n",
    "        x_unfolded = x_unfolded.view(B, self.G, C//self.G, self.K*self.K, H, W)\n",
    "        # kernel generation, Eqn.(6)\n",
    "        kernel = self.span(self.reduce(self.o(x))) # B,KxKxG,H,W\n",
    "        kernel = kernel.view(B, self.G, self.K*self.K, H, W).unsqueeze(2)\n",
    "        # Multiply-Add operation, Eqn.(4)\n",
    "        out = torch.mul(kernel, x_unfolded).sum(dim=3) # B,G,C/G,H,W\n",
    "        out = out.view(B, C, H, W)\n",
    "        return out "
   ]
  },
  {
   "cell_type": "code",
   "execution_count": 10,
   "id": "a959a5d5",
   "metadata": {},
   "outputs": [],
   "source": [
    "test = Involution(256,512,3)"
   ]
  },
  {
   "cell_type": "code",
   "execution_count": 11,
   "id": "eb859fc4",
   "metadata": {},
   "outputs": [],
   "source": [
    "x=torch.randn(1,256,10,10)\n",
    "out =test(x)\n",
    "test.eval()\n"
   ]
  },
  {
   "cell_type": "code",
   "execution_count": 12,
   "id": "9f6c9bb0",
   "metadata": {},
   "outputs": [
    {
     "data": {
      "text/plain": [
       "torch.Size([1, 256, 10, 10])"
      ]
     },
     "execution_count": 12,
     "metadata": {},
     "output_type": "execute_result"
    }
   ],
   "source": [
    "out.shape"
   ]
  },
  {
   "cell_type": "code",
   "execution_count": null,
   "id": "27a98a25",
   "metadata": {},
   "outputs": [],
   "source": []
  }
 ],
 "metadata": {
  "kernelspec": {
   "display_name": "Python 3 (ipykernel)",
   "language": "python",
   "name": "python3"
  },
  "language_info": {
   "codemirror_mode": {
    "name": "ipython",
    "version": 3
   },
   "file_extension": ".py",
   "mimetype": "text/x-python",
   "name": "python",
   "nbconvert_exporter": "python",
   "pygments_lexer": "ipython3",
   "version": "3.8.8"
  }
 },
 "nbformat": 4,
 "nbformat_minor": 5
}
