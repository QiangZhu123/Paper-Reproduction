{
 "cells": [
  {
   "cell_type": "code",
   "execution_count": 39,
   "id": "3d663415",
   "metadata": {},
   "outputs": [],
   "source": [
    "import torch\n",
    "from torch import nn\n",
    "import torch.nn.functional  as F"
   ]
  },
  {
   "cell_type": "code",
   "execution_count": 33,
   "id": "f6e6ea38",
   "metadata": {},
   "outputs": [],
   "source": [
    "class DeepPoseSub(nn.Module):\n",
    "    def __init__(self,\n",
    "                 input_channel,\n",
    "                num_classes,\n",
    "                ):\n",
    "        super().__init__()\n",
    "        self.conv = nn.Sequential(nn.Conv2d(3,48,kernel_size=3,stride=4),\n",
    "         nn.Conv2d(48,128,kernel_size=3,stride=2),\n",
    "         nn.Conv2d(128,192,3,stride=2),\n",
    "        nn.Conv2d(192,192,kernel_size=3,padding=1))\n",
    "        self.fc = nn.Sequential(nn.Linear(192*13*13,4096),\n",
    "                               nn.Linear(4096,4096))\n",
    "        self.classifier=nn.Linear(4096,2*num_classes)\n",
    "        self.dropout =nn.Dropout()\n",
    "    def forward(self,x):\n",
    "        out= self.conv(x)\n",
    "        out=out.reshape(out.shape[0],-1)\n",
    "        out=self.dropout(out)\n",
    "        out=self.fc(out)\n",
    "        out=self.classifier(out)\n",
    "        \n",
    "        return out\n",
    "class DeepPose(nn.Module):\n",
    "    def __init__(self,\n",
    "                 input_channel,\n",
    "                num_classes,\n",
    "                stage=1):\n",
    "        super().__init__()\n",
    "        self.submodel = DeepPoseSub(input_channel,\n",
    "                num_classes)\n",
    "        self.refinemodel = DeepPoseSub(input_channel,\n",
    "                1)\n",
    "        self.stage=stage\n",
    "        self.num_classes=num_classes\n",
    "    \n",
    "    def forward(self,x):\n",
    "        init_point = self.submodel(x)\n",
    "        for i in range(self.stage):\n",
    "            for j in range(self.num_classes):\n",
    "                point = init_point[:,2*j:2*j+1]\n",
    "                \n",
    "        \n",
    "    \n",
    "    \n",
    "    def loss(self,modeloutput,label):\n",
    "        loss = F.mse_loss(modeloutput,label)\n",
    "        return loss"
   ]
  },
  {
   "cell_type": "code",
   "execution_count": 42,
   "id": "8b650837",
   "metadata": {},
   "outputs": [
    {
     "data": {
      "text/plain": [
       "tensor(0.1682)"
      ]
     },
     "execution_count": 42,
     "metadata": {},
     "output_type": "execute_result"
    }
   ],
   "source": [
    "F.mse_loss(torch.rand(5,3),torch.rand(5,3))"
   ]
  },
  {
   "cell_type": "code",
   "execution_count": 35,
   "id": "8c53e059",
   "metadata": {},
   "outputs": [
    {
     "data": {
      "text/plain": [
       "torch.Size([1, 24])"
      ]
     },
     "execution_count": 35,
     "metadata": {},
     "output_type": "execute_result"
    }
   ],
   "source": []
  },
  {
   "cell_type": "code",
   "execution_count": null,
   "id": "eb4fb37c",
   "metadata": {},
   "outputs": [],
   "source": []
  },
  {
   "cell_type": "code",
   "execution_count": null,
   "id": "1a0409a7",
   "metadata": {},
   "outputs": [],
   "source": []
  },
  {
   "cell_type": "code",
   "execution_count": null,
   "id": "8899120d",
   "metadata": {},
   "outputs": [],
   "source": []
  },
  {
   "cell_type": "code",
   "execution_count": null,
   "id": "282fb7f7",
   "metadata": {},
   "outputs": [],
   "source": []
  },
  {
   "cell_type": "code",
   "execution_count": null,
   "id": "949e6bca",
   "metadata": {},
   "outputs": [],
   "source": []
  },
  {
   "cell_type": "code",
   "execution_count": null,
   "id": "ba4c2cc9",
   "metadata": {},
   "outputs": [],
   "source": []
  },
  {
   "cell_type": "code",
   "execution_count": null,
   "id": "54f73676",
   "metadata": {},
   "outputs": [],
   "source": []
  }
 ],
 "metadata": {
  "kernelspec": {
   "display_name": "Python 3 (ipykernel)",
   "language": "python",
   "name": "python3"
  },
  "language_info": {
   "codemirror_mode": {
    "name": "ipython",
    "version": 3
   },
   "file_extension": ".py",
   "mimetype": "text/x-python",
   "name": "python",
   "nbconvert_exporter": "python",
   "pygments_lexer": "ipython3",
   "version": "3.10.0"
  }
 },
 "nbformat": 4,
 "nbformat_minor": 5
}
