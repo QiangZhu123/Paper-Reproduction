{
 "cells": [
  {
   "cell_type": "code",
   "execution_count": 3,
   "id": "50b382b8",
   "metadata": {},
   "outputs": [],
   "source": [
    "from torch import nn\n",
    "import torch\n",
    "from mmcv.cnn import ConvModule"
   ]
  },
  {
   "cell_type": "code",
   "execution_count": 7,
   "id": "76fba177",
   "metadata": {},
   "outputs": [],
   "source": [
    "class ASFF(nn.Module):\n",
    "    \n",
    "    def __init__(self,\n",
    "                 level,\n",
    "                 in_channels,\n",
    "                 mid_channels,\n",
    "                norm_cfg={'type':'BN'}):\n",
    "        super().__init__()\n",
    "        self.layers = nn.ModuleList()\n",
    "        self.level = level\n",
    "        for i in range(len(in_channels)):\n",
    "            self.layers.append(ConvModule(in_channels[level],\n",
    "                                    mid_channels,\n",
    "                                        kernel_size=1,\n",
    "                                          stride=1,\n",
    "                                          padding=0,act_cfg={'type':'ReLU6'}))\n",
    "        self.conv = ConvModule(mid_channels*len(in_channels),\n",
    "                               len(in_channels),\n",
    "                               kernel_size=1,\n",
    "                               stride=1,\n",
    "                               padding=0,\n",
    "                               act_cfg={'type':'Sigmoid'})\n",
    "        if level == 0:\n",
    "            self.up1 = nn.Sequential(ConvModule(in_channels[1],\n",
    "                                               in_channels[0],kernel_size=1,stride=1,padding=0,\n",
    "                                                norm_cfg=norm_cfg),\n",
    "                                   nn.Upsample(scale_factor=2))\n",
    "            self.up2 = nn.Sequential(ConvModule(in_channels[2],\n",
    "                                               in_channels[0],kernel_size=1,stride=1,padding=0,norm_cfg=norm_cfg),\n",
    "                                   nn.Upsample(scale_factor=4,))\n",
    "        elif level ==1:\n",
    "            self.up = nn.Sequential(nn.Conv2d(in_channels[2],in_channels[1],1,1,0),\n",
    "                                   nn.BatchNorm2d(in_channels[1]),\n",
    "                                   nn.Upsample(scale_factor=2))\n",
    "            self.down = nn.Sequential(nn.Conv2d(in_channels[0],\n",
    "                                               in_channels[1],kernel_size=3,stride=2,padding =1),\n",
    "                                     nn.BatchNorm2d(in_channels[1]),\n",
    "                                     )\n",
    "        else:\n",
    "            self.down1 = nn.Sequential(nn.Conv2d(in_channels[1],\n",
    "                                               in_channels[2],kernel_size=3,stride=2,padding=1),\n",
    "                                     nn.BatchNorm2d(in_channels[2]),\n",
    "                                     )\n",
    "            self.down2 = nn.Sequential(nn.Conv2d(in_channels[0],\n",
    "                                               in_channels[2],kernel_size=3,stride=2,padding=1),\n",
    "                                     nn.BatchNorm2d(in_channels[2]),\n",
    "                                     nn.MaxPool2d(2,2))\n",
    "    def forward(self,inputs):\n",
    "        if self.level ==0:\n",
    "            inputs[1]=self.up1(inputs[1])\n",
    "            inputs[2]=self.up2(inputs[2])\n",
    "        elif self.level ==1:\n",
    "            inputs[2]=self.up(inputs[2])\n",
    "            inputs[0]=self.down(inputs[0])\n",
    "        else:\n",
    "            inputs[1]=self.down1(inputs[1])\n",
    "            inputs[0]=self.down2(inputs[0])\n",
    "        print(inputs[0].shape,inputs[1].shape,inputs[2].shape,)\n",
    "        out = []\n",
    "        for layer,x in zip(self.layers,inputs):\n",
    "            out.append(layer(x))\n",
    "        att = self.conv(torch.cat(out,dim=1))\n",
    "        \n",
    "        return inputs[0]*att[:,0,:,:]+inputs[1]*att[:,1,:,:]+inputs[2]*att[:,2,:,:]"
   ]
  },
  {
   "cell_type": "code",
   "execution_count": 16,
   "id": "5452770e",
   "metadata": {},
   "outputs": [
    {
     "name": "stdout",
     "output_type": "stream",
     "text": [
      "torch.Size([1, 64, 20, 20]) torch.Size([1, 64, 20, 20]) torch.Size([1, 64, 20, 20])\n",
      "torch.Size([1, 64, 20, 20])\n",
      "torch.Size([1, 64, 20, 20])\n",
      "torch.Size([1, 64, 20, 20])\n"
     ]
    }
   ],
   "source": [
    "a =[torch.randn(1,32,40,40),torch.randn(1,64,20,20),torch.randn(1,128,10,10)]\n",
    "test = ASFF(1,[32,64,128],64)\n",
    "torch.onnx.export(test,a,'on.onnx',11)"
   ]
  },
  {
   "cell_type": "code",
   "execution_count": null,
   "id": "fbb2f86d",
   "metadata": {},
   "outputs": [],
   "source": []
  }
 ],
 "metadata": {
  "kernelspec": {
   "display_name": "Python 3 (ipykernel)",
   "language": "python",
   "name": "python3"
  },
  "language_info": {
   "codemirror_mode": {
    "name": "ipython",
    "version": 3
   },
   "file_extension": ".py",
   "mimetype": "text/x-python",
   "name": "python",
   "nbconvert_exporter": "python",
   "pygments_lexer": "ipython3",
   "version": "3.8.8"
  }
 },
 "nbformat": 4,
 "nbformat_minor": 5
}
