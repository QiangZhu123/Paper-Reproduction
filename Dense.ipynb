{
 "cells": [
  {
   "cell_type": "code",
   "execution_count": 1,
   "id": "6511b490",
   "metadata": {},
   "outputs": [],
   "source": [
    "import torch\n",
    "from torch import nn\n",
    "import matplotlib.pyplot as plt\n",
    "from torchvision import models"
   ]
  },
  {
   "cell_type": "code",
   "execution_count": 8,
   "id": "393369da",
   "metadata": {},
   "outputs": [],
   "source": [
    "dense = models.densenet121(pretrained=False)"
   ]
  },
  {
   "cell_type": "code",
   "execution_count": 11,
   "id": "301c0cdf",
   "metadata": {},
   "outputs": [],
   "source": [
    "dense= dense.half()"
   ]
  },
  {
   "cell_type": "code",
   "execution_count": 4,
   "id": "e0d4258b",
   "metadata": {},
   "outputs": [],
   "source": [
    "dense = models.densenet121(pretrained=False)\n",
    "x= torch.randn(1,3,224,224)\n",
    "x = x.float\n",
    "dense.eval()\n",
    "torch.onnx.export(dense,x,'dense.onnx')"
   ]
  },
  {
   "cell_type": "code",
   "execution_count": 3,
   "id": "a45b1667",
   "metadata": {},
   "outputs": [],
   "source": [
    "class ConvBlock(nn.Module):\n",
    "    def __init__(self,in_channels,out_channels,kernel,pad,stride):\n",
    "        super().__init__()\n",
    "        self.block= nn.Sequential(nn.Conv2d(in_channels,out_channels,kernel_size=kernel,padding=pad,\n",
    "                                           stride=stride),\n",
    "                                 nn.ReLU(),\n",
    "                                 nn.MaxPool2d(kernel_size=3,padding=1,stride=2))\n",
    "    def forward(self,x):\n",
    "        out =self.block(x)\n",
    "        return out\n",
    "    \n",
    "class Transition(nn.Module):\n",
    "    \n",
    "    def __init__(self,in_channle,out_channels):\n",
    "        super().__init__()\n",
    "        self.block=nn.Sequential(nn.BatchNorm2d(in_channle),\n",
    "                                nn.ReLU(),\n",
    "                                nn.Conv2d(in_channle,out_channels,kernel_size=1,padding=0,stride=1),\n",
    "                                nn.AvgPool2d(kernel_size=2,stride=2))\n",
    "    def forward(self,x):\n",
    "        return self.block(x)\n",
    "    \n",
    "class DenseConv(nn.Module):\n",
    "    def __init__(self,in_channels,k=32):\n",
    "        super().__init__()\n",
    "        self.convblock=nn.Sequential(nn.BatchNorm2d(in_channels),nn.ReLU(),\n",
    "                            nn.Conv2d(in_channels,k*4,kernel_size=1,padding=0,stride=1),\n",
    "                            nn.ReLU(),\n",
    "                            nn.Conv2d(k*4,k,kernel_size=3,padding=1,stride=1))\n",
    "    def forward(self,x):\n",
    "        return self.convblock(x)\n",
    "#模块中如果要是用到了list,得考虑使用ModuleList\n",
    "class Dense(nn.Module):\n",
    "    \n",
    "    def __init__(self,in_channels,layer):\n",
    "        super().__init__()\n",
    "        self.layer=nn.ModuleList()\n",
    "        for i in range(layer):\n",
    "            self.layer.append(DenseConv(in_channels+i*32))\n",
    "    def forward(self,x):\n",
    "        out = [x]\n",
    " \n",
    "        for layer in self.layer:\n",
    "            inputs = torch.cat(out,dim=1)\n",
    "            temp = layer(inputs)\n",
    "            out.append(temp)\n",
    "\n",
    "        return torch.cat(out,dim=1)\n",
    "            \n",
    "class MyDense(nn.Module):\n",
    "    layers =[6,12,24,16]\n",
    "    def __init__(self,n_classes):\n",
    "        super().__init__()\n",
    "        self.n_classes=n_classes\n",
    "        \n",
    "        self.stem = ConvBlock(3,64,7,3,2)\n",
    "        \n",
    "        self.layer=[]\n",
    "        for i in range(4):\n",
    "            self.layer.append('block'+f\"{i+1}\")\n",
    "            self.add_module('block'+f\"{i+1}\",Dense(64*2**(i),self.layers[i]))\n",
    "            if i!=3:\n",
    "                self.layer.append('trans'+f\"{i+1}\")\n",
    "                self.add_module('trans'+f\"{i+1}\",Transition(64*(2**(i+2)),64*2**(i+1)))\n",
    "        self.fc= nn.Sequential(nn.BatchNorm2d(1024),\n",
    "                              nn.ReLU(),\n",
    "                              nn.AdaptiveAvgPool2d(1),\n",
    "                              nn.Flatten(),\n",
    "                              nn.Linear(1024,self.n_classes))\n",
    "    def forward(self,x):\n",
    "        out =self.stem(x)\n",
    "        \n",
    "        for name in self.layer:\n",
    "            layer = getattr(self,name)\n",
    "            out = layer(out)\n",
    "        out = self.fc(out)\n",
    "        return out\n",
    "    def train(self, mode=True):\n",
    "        super(MyDense, self).train(mode)\n",
    "        if not mode:\n",
    "            for m in self.modules():\n",
    "                if isinstance(m, nn.BatchNorm2d):\n",
    "                    m.eval()\n"
   ]
  },
  {
   "cell_type": "code",
   "execution_count": 26,
   "id": "18774589",
   "metadata": {},
   "outputs": [],
   "source": [
    "test = MyDense(1000)\n",
    "test.eval()\n",
    "x =torch.randn(1,3,224,224)\n",
    "torch.onnx.export(test,x,'mydense.onnx')"
   ]
  },
  {
   "cell_type": "code",
   "execution_count": null,
   "id": "b9d6d24c",
   "metadata": {},
   "outputs": [],
   "source": []
  },
  {
   "cell_type": "code",
   "execution_count": null,
   "id": "b92fa4a6",
   "metadata": {},
   "outputs": [],
   "source": []
  }
 ],
 "metadata": {
  "kernelspec": {
   "display_name": "Python 3 (ipykernel)",
   "language": "python",
   "name": "python3"
  },
  "language_info": {
   "codemirror_mode": {
    "name": "ipython",
    "version": 3
   },
   "file_extension": ".py",
   "mimetype": "text/x-python",
   "name": "python",
   "nbconvert_exporter": "python",
   "pygments_lexer": "ipython3",
   "version": "3.8.8"
  }
 },
 "nbformat": 4,
 "nbformat_minor": 5
}
