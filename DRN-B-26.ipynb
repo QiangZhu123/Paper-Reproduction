{
 "cells": [
  {
   "cell_type": "code",
   "execution_count": 2,
   "id": "7bcea58f",
   "metadata": {},
   "outputs": [],
   "source": [
    "import torch\n",
    "from torch import nn\n",
    "from mmcv.cnn.bricks.conv_module import ConvModule"
   ]
  },
  {
   "cell_type": "code",
   "execution_count": 14,
   "id": "f63377e3",
   "metadata": {},
   "outputs": [],
   "source": [
    "class BasicBlock(nn.Module):\n",
    "    \n",
    "    def __init__(self,in_channels,\n",
    "                 out_channels,\n",
    "                kernel=3,\n",
    "                 stride=1,\n",
    "                 pad=1,\n",
    "                 dilation=1,\n",
    "                 con_cfg=None,\n",
    "                 act_cfg=None,\n",
    "                 norm_cfg=None,\n",
    "                ):\n",
    "        super().__init__()\n",
    "        self.conv1 =ConvModule(in_channels,out_channels,kernel,stride,pad,dilation=dilation,\n",
    "                              conv_cfg=con_cfg,act_cfg=act_cfg,norm_cfg=norm_cfg)\n",
    "        self.conv2 = ConvModule(out_channels,out_channels,kernel,1,0,dilation=dilation,\n",
    "                              conv_cfg=con_cfg,act_cfg=act_cfg,norm_cfg=norm_cfg)\n",
    "    \n",
    "    def forward(self,x):\n",
    "        residual =x\n",
    "        out =self.conv1(x)\n",
    "        out = self.conv2(out)\n",
    "        return out+residual\n",
    "class DRNlayer(nn.Module):\n",
    "    def __init__(self,\n",
    "                 down_sample=False,\n",
    "                num_layer=2,\n",
    "                 stride=1,\n",
    "                 **kwargs):\n",
    "        super().__init__(**kwargs)\n",
    "        self.layer =nn.ModuleList()\n",
    "        if down_sample:\n",
    "            self.layer.append(BasicBlock(stride=2,**kwargs))\n",
    "        else:\n",
    "            self.layer.append(BasicBlock(stride=1,**kwargs))\n",
    "        if num_layer>1:\n",
    "            self.layer.append(BasicBlock(stride=1,**kwargs))\n",
    "    def forward(self,x):\n",
    "        for layer in self.layer:\n",
    "            out = layer(x)\n",
    "        return out"
   ]
  },
  {
   "cell_type": "code",
   "execution_count": 11,
   "id": "a7813796",
   "metadata": {},
   "outputs": [],
   "source": [
    "class DRN(nn.Module):\n",
    "    \n",
    "    def __init__(self):\n",
    "        super().__init__()\n",
    "        self.stem = nn.Sequential(nn.Conv2d(3,16,7,5,3), BasicBlock(16,16,stride=2))\n",
    "        self.block1 = BasicBlock() \n",
    "    def forward(self,x):\n",
    "        out =self.stem(x)\n",
    "        \n",
    "    "
   ]
  },
  {
   "cell_type": "code",
   "execution_count": 12,
   "id": "9f710965",
   "metadata": {},
   "outputs": [
    {
     "name": "stdout",
     "output_type": "stream",
     "text": [
      "torch.Size([1, 16, 45, 45])\n"
     ]
    }
   ],
   "source": [
    "drn = DRN()\n",
    "x= torch.randn(1,3,224,224)\n",
    "drn.eval()\n",
    "out= drn(x)\n",
    "print(out.shape)"
   ]
  },
  {
   "cell_type": "code",
   "execution_count": null,
   "id": "d9da0bd0",
   "metadata": {},
   "outputs": [],
   "source": []
  }
 ],
 "metadata": {
  "kernelspec": {
   "display_name": "Python 3 (ipykernel)",
   "language": "python",
   "name": "python3"
  },
  "language_info": {
   "codemirror_mode": {
    "name": "ipython",
    "version": 3
   },
   "file_extension": ".py",
   "mimetype": "text/x-python",
   "name": "python",
   "nbconvert_exporter": "python",
   "pygments_lexer": "ipython3",
   "version": "3.8.8"
  }
 },
 "nbformat": 4,
 "nbformat_minor": 5
}
