{
 "cells": [
  {
   "cell_type": "code",
   "execution_count": 33,
   "id": "80fc7a2c",
   "metadata": {},
   "outputs": [],
   "source": [
    "import torch\n",
    "from torch import nn\n",
    "import numpy as np\n",
    "import pandas as pd\n",
    "import matplotlib.pyplot as plt"
   ]
  },
  {
   "cell_type": "code",
   "execution_count": 125,
   "id": "7ce7506c",
   "metadata": {},
   "outputs": [],
   "source": [
    "def dsd(weight,sparity=0.5):\n",
    "    #稀疏性\n",
    "    assert sparity>=0 and sparity<=1\n",
    "    weight.requires_grad=False\n",
    "    #数据量\n",
    "    N=weight.numel()\n",
    "    I,O,K,K=weight.shape\n",
    "    #稀疏后\n",
    "    k = int(N*(1-sparity))\n",
    "    data=weight.numpy().reshape(-1)\n",
    "    importance = np.abs(data)\n",
    "    index= np.argsort(importance)[:k]\n",
    "    data[index]=0\n",
    "    data.reshape(I,O,K,K)\n",
    "    return weight"
   ]
  },
  {
   "cell_type": "code",
   "execution_count": 135,
   "id": "414265d7",
   "metadata": {},
   "outputs": [
    {
     "data": {
      "text/plain": [
       "(array([1886327., 1887910., 1885731., 1889133., 1886186., 1887735.,\n",
       "        1888389., 1885553., 1889908., 1887496.]),\n",
       " array([-1.0416667e-02, -8.3333338e-03, -6.2500006e-03, -4.1666673e-03,\n",
       "        -2.0833341e-03, -9.3132257e-10,  2.0833323e-03,  4.1666655e-03,\n",
       "         6.2499987e-03,  8.3333319e-03,  1.0416665e-02], dtype=float32),\n",
       " <BarContainer object of 10 artists>)"
      ]
     },
     "execution_count": 135,
     "metadata": {},
     "output_type": "execute_result"
    },
    {
     "data": {
      "image/png": "[encoded data removed]",
      "text/plain": [
       "<Figure size 432x288 with 1 Axes>"
      ]
     },
     "metadata": {
      "needs_background": "light"
     },
     "output_type": "display_data"
    }
   ],
   "source": [
    "layer = nn.Conv2d(1024,2048,kernel_size=3)\n",
    "weight = layer.weight\n",
    "weight.requires_grad=False\n",
    "data= weight.numpy().reshape(-1)\n",
    "plt.hist(data)"
   ]
  },
  {
   "cell_type": "code",
   "execution_count": 136,
   "id": "3999aab4",
   "metadata": {},
   "outputs": [
    {
     "data": {
      "text/plain": [
       "(array([1886327., 1887910., 1885731., 1888644.,       0., 3774873.,\n",
       "        1887926., 1885553., 1889908., 1887496.]),\n",
       " array([-1.0416667e-02, -8.3333338e-03, -6.2500006e-03, -4.1666673e-03,\n",
       "        -2.0833341e-03, -9.3132257e-10,  2.0833323e-03,  4.1666655e-03,\n",
       "         6.2499987e-03,  8.3333319e-03,  1.0416665e-02], dtype=float32),\n",
       " <BarContainer object of 10 artists>)"
      ]
     },
     "execution_count": 136,
     "metadata": {},
     "output_type": "execute_result"
    },
    {
     "data": {
      "image/png": "[encoded data removed]",
      "text/plain": [
       "<Figure size 432x288 with 1 Axes>"
      ]
     },
     "metadata": {
      "needs_background": "light"
     },
     "output_type": "display_data"
    }
   ],
   "source": [
    "new_weight= dsd(weight,sparity=0.8)\n",
    "plt.hist(new_weight.numpy().reshape(-1))"
   ]
  },
  {
   "cell_type": "code",
   "execution_count": 143,
   "id": "f78d620f",
   "metadata": {},
   "outputs": [],
   "source": [
    "a = torch.randn(5,5)"
   ]
  },
  {
   "cell_type": "code",
   "execution_count": 155,
   "id": "269ee179",
   "metadata": {},
   "outputs": [
    {
     "data": {
      "text/plain": [
       "tensor([[ 0.6811,  0.3490, -1.2928, -0.1420, -0.4998],\n",
       "        [ 1.3307,  0.8540,  1.5353, -1.3690,  0.2087],\n",
       "        [ 0.0182, -0.5359,  0.1880,  0.3850,  0.3356],\n",
       "        [ 0.6335,  1.6608, -0.4896,  0.1043, -0.1825],\n",
       "        [ 1.0496,  0.9572,  0.1337, -0.0870,  0.4799]])"
      ]
     },
     "execution_count": 155,
     "metadata": {},
     "output_type": "execute_result"
    }
   ],
   "source": [
    "a."
   ]
  },
  {
   "cell_type": "markdown",
   "id": "e9c448fc",
   "metadata": {},
   "source": [
    "# 一维过滤"
   ]
  },
  {
   "cell_type": "code",
   "execution_count": 13,
   "id": "75841bbc",
   "metadata": {},
   "outputs": [
    {
     "data": {
      "text/plain": [
       "array([ 0,  0,  0,  0, 56,  6,  7,  8])"
      ]
     },
     "execution_count": 13,
     "metadata": {},
     "output_type": "execute_result"
    }
   ],
   "source": [
    "a = np.array([1,2,3,4,56,6,7,8])\n",
    "mask_a = a>5\n",
    "mask_a\n",
    "a*mask_a"
   ]
  },
  {
   "cell_type": "markdown",
   "id": "19085c08",
   "metadata": {},
   "source": [
    "# 四维过滤"
   ]
  },
  {
   "cell_type": "code",
   "execution_count": 46,
   "id": "782141e7",
   "metadata": {},
   "outputs": [
    {
     "data": {
      "text/plain": [
       "array([[[[0.        , 0.        , 0.26527438, 0.        , 0.27726402],\n",
       "         [0.88712649, 0.73753115, 0.6027898 , 0.37945899, 0.79337602],\n",
       "         [0.41369   , 0.6405585 , 0.82922971, 0.34294   , 0.63406644],\n",
       "         [0.96203153, 0.84653007, 0.32671136, 0.5822713 , 0.        ],\n",
       "         [0.44578248, 0.88329653, 0.        , 0.57976013, 0.98782781]],\n",
       "\n",
       "        [[0.24000532, 0.99643847, 0.38881539, 0.7876425 , 0.71114132],\n",
       "         [0.21828056, 0.87602466, 0.60355179, 0.22412506, 0.47746835],\n",
       "         [0.83193168, 0.88807439, 0.        , 0.64601197, 0.42238136],\n",
       "         [0.62888385, 0.        , 0.99423812, 0.98488749, 0.28207214],\n",
       "         [0.78823454, 0.78277209, 0.85728278, 0.        , 0.25300835]],\n",
       "\n",
       "        [[0.86452805, 0.58678765, 0.65200598, 0.90559489, 0.68566882],\n",
       "         [0.        , 0.79188567, 0.9033275 , 0.29208194, 0.321251  ],\n",
       "         [0.        , 0.73984877, 0.        , 0.75378431, 0.        ],\n",
       "         [0.25596488, 0.65037689, 0.28303909, 0.        , 0.24175983],\n",
       "         [0.46413465, 0.6653348 , 0.36215633, 0.71256277, 0.        ]]],\n",
       "\n",
       "\n",
       "       [[[0.24438958, 0.85240442, 0.50895876, 0.77933154, 0.86676383],\n",
       "         [0.84715053, 0.98809665, 0.22124087, 0.32639091, 0.76876548],\n",
       "         [0.80349723, 0.63990571, 0.33187998, 0.98959671, 0.        ],\n",
       "         [0.52283137, 0.80009362, 0.86445219, 0.354878  , 0.26229652],\n",
       "         [0.        , 0.5522552 , 0.48445998, 0.62696549, 0.6169679 ]],\n",
       "\n",
       "        [[0.99700067, 0.94609851, 0.24533193, 0.26643954, 0.38185834],\n",
       "         [0.49229554, 0.67274655, 0.        , 0.64042292, 0.25146389],\n",
       "         [0.87636631, 0.31405535, 0.88447271, 0.72528735, 0.        ],\n",
       "         [0.30043822, 0.7764699 , 0.21079415, 0.        , 0.85348158],\n",
       "         [0.        , 0.37942758, 0.84554402, 0.98169204, 0.98068689]],\n",
       "\n",
       "        [[0.27452136, 0.        , 0.56713747, 0.55125675, 0.87818991],\n",
       "         [0.84072723, 0.23269648, 0.27831907, 0.20968786, 0.41282031],\n",
       "         [0.        , 0.64475761, 0.88627802, 0.80506536, 0.97410836],\n",
       "         [0.        , 0.20265068, 0.        , 0.57585233, 0.        ],\n",
       "         [0.92562228, 0.73563574, 0.27062313, 0.29632775, 0.39277386]]]])"
      ]
     },
     "execution_count": 46,
     "metadata": {},
     "output_type": "execute_result"
    }
   ],
   "source": [
    "a = np.random.rand(2,3,5,5)\n",
    "mask_a =np.abs(a)>0.2\n",
    "mask_a\n",
    "a*mask_a"
   ]
  },
  {
   "cell_type": "code",
   "execution_count": 47,
   "id": "079e0312",
   "metadata": {},
   "outputs": [],
   "source": [
    "data = pd.DataFrame(a.reshape(-1))"
   ]
  },
  {
   "cell_type": "code",
   "execution_count": 48,
   "id": "212cb7d3",
   "metadata": {},
   "outputs": [
    {
     "data": {
      "text/plain": [
       "(array([11., 17., 24., 12.,  9., 10., 14., 16., 22., 15.]),\n",
       " array([0.02193518, 0.11944173, 0.21694828, 0.31445483, 0.41196138,\n",
       "        0.50946793, 0.60697447, 0.70448102, 0.80198757, 0.89949412,\n",
       "        0.99700067]),\n",
       " <BarContainer object of 10 artists>)"
      ]
     },
     "execution_count": 48,
     "metadata": {},
     "output_type": "execute_result"
    },
    {
     "data": {
      "image/png": "[encoded data removed]",
      "text/plain": [
       "<Figure size 432x288 with 1 Axes>"
      ]
     },
     "metadata": {
      "needs_background": "light"
     },
     "output_type": "display_data"
    }
   ],
   "source": [
    "plt.hist(data)"
   ]
  },
  {
   "cell_type": "code",
   "execution_count": null,
   "id": "c39db0e5",
   "metadata": {},
   "outputs": [],
   "source": []
  }
 ],
 "metadata": {
  "kernelspec": {
   "display_name": "Python 3 (ipykernel)",
   "language": "python",
   "name": "python3"
  },
  "language_info": {
   "codemirror_mode": {
    "name": "ipython",
    "version": 3
   },
   "file_extension": ".py",
   "mimetype": "text/x-python",
   "name": "python",
   "nbconvert_exporter": "python",
   "pygments_lexer": "ipython3",
   "version": "3.8.8"
  }
 },
 "nbformat": 4,
 "nbformat_minor": 5
}
