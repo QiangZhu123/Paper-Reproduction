{
 "cells": [
  {
   "cell_type": "code",
   "execution_count": null,
   "id": "5bcf27c4",
   "metadata": {},
   "outputs": [],
   "source": [
    "import torch.nn as nn\n",
    "\n",
    "from mmcv.cnn.bricks.registry import ACTIVATION_LAYERS"
   ]
  },
  {
   "cell_type": "code",
   "execution_count": null,
   "id": "ffdbde6f",
   "metadata": {},
   "outputs": [],
   "source": [
    "@ACTIVATION_LAYERS.register_module()\n",
    "class Mish(nn.Module):\n",
    "    \"\"\"\n",
    "    Mish:A Self Regularized Non-Monotonic Neural Activation Funcion \n",
    "    \n",
    "    f(x) = x * tanh(softplus(x))\n",
    "    \n",
    "    better than Swish and ReLU on classificiation\n",
    "    \"\"\"\n",
    "    def __init__(self,):\n",
    "        super(Mish,self).__init__()\n",
    "        self.act = nn.Tanh()\n",
    "        \n",
    "    def forward(self,x):\n",
    "        return x * self.act(nn.Softplus()(x))"
   ]
  }
 ],
 "metadata": {
  "kernelspec": {
   "display_name": "Python 3",
   "language": "python",
   "name": "python3"
  },
  "language_info": {
   "codemirror_mode": {
    "name": "ipython",
    "version": 3
   },
   "file_extension": ".py",
   "mimetype": "text/x-python",
   "name": "python",
   "nbconvert_exporter": "python",
   "pygments_lexer": "ipython3",
   "version": "3.7.1"
  }
 },
 "nbformat": 4,
 "nbformat_minor": 5
}
