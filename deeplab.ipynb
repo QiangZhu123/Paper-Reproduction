{
 "cells": [
  {
   "cell_type": "code",
   "execution_count": 2,
   "id": "b57e6bd2",
   "metadata": {},
   "outputs": [],
   "source": [
    "import torch\n",
    "from torch import nn\n",
    "from mmcv.cnn.bricks.conv_module import ConvModule\n",
    "from torchvision import models"
   ]
  },
  {
   "cell_type": "code",
   "execution_count": 40,
   "id": "6214e696",
   "metadata": {},
   "outputs": [],
   "source": [
    "class Myvgg(nn.Module):\n",
    "    \n",
    "    def __init__(self,num_classes=21):\n",
    "        super().__init__()\n",
    "        self.vgg=models.vgg16_bn(pretrained=False)\n",
    "        self.vgg.features[34]=nn.Conv2d(512, 512, kernel_size=(3, 3), stride=(1, 1), padding=(2, 2),dilation=2)\n",
    "        self.vgg.features[40]=nn.Conv2d(512, 512, kernel_size=(3, 3), stride=(1, 1), padding=(2, 2),dilation=2)\n",
    "        self.pre =nn.Sequential(self.vgg.features[:33])\n",
    "        self.mid = nn.Sequential(self.vgg.features[34:43])\n",
    "\n",
    "        self.classifier = nn.Sequential(nn.Conv2d(512,512,1),\n",
    "                                       nn.ReLU(True),\n",
    "                                       nn.Conv2d(512,512,1),\n",
    "                                       nn.ReLU(True),\n",
    "                                       nn.Conv2d(512,num_classes,1))\n",
    "    def forward(self,x):\n",
    "        out =self.pre(x)\n",
    "        out =self.mid(out)\n",
    "\n",
    "  \n",
    "        out = self.classifier(out)\n",
    "        return out"
   ]
  },
  {
   "cell_type": "code",
   "execution_count": 41,
   "id": "02bc901e",
   "metadata": {},
   "outputs": [],
   "source": [
    "my = Myvgg()"
   ]
  },
  {
   "cell_type": "code",
   "execution_count": 43,
   "id": "3d92bcc4",
   "metadata": {},
   "outputs": [
    {
     "name": "stdout",
     "output_type": "stream",
     "text": [
      "torch.Size([1, 512, 28, 28])\n"
     ]
    }
   ],
   "source": [
    "my.eval()\n",
    "x=torch.randn(1,3,224,224)\n",
    "torch.onnx.export(my,x,'test.onnx')\n"
   ]
  },
  {
   "cell_type": "code",
   "execution_count": null,
   "id": "0a1cb8b5",
   "metadata": {},
   "outputs": [],
   "source": []
  }
 ],
 "metadata": {
  "kernelspec": {
   "display_name": "Python 3 (ipykernel)",
   "language": "python",
   "name": "python3"
  },
  "language_info": {
   "codemirror_mode": {
    "name": "ipython",
    "version": 3
   },
   "file_extension": ".py",
   "mimetype": "text/x-python",
   "name": "python",
   "nbconvert_exporter": "python",
   "pygments_lexer": "ipython3",
   "version": "3.8.8"
  }
 },
 "nbformat": 4,
 "nbformat_minor": 5
}
