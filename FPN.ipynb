{
 "cells": [
  {
   "cell_type": "code",
   "execution_count": 1,
   "id": "9b096257",
   "metadata": {},
   "outputs": [
    {
     "name": "stderr",
     "output_type": "stream",
     "text": [
      "c:\\users\\administrator\\appdata\\local\\programs\\python\\python38\\lib\\site-packages\\setuptools\\distutils_patch.py:25: UserWarning: Distutils was imported before Setuptools. This usage is discouraged and may exhibit undesirable behaviors or errors. Please use Setuptools' objects directly or at least import Setuptools first.\n",
      "  warnings.warn(\n"
     ]
    }
   ],
   "source": [
    "import torch\n",
    "from torch import nn\n",
    "from mmcv.cnn.bricks.conv_module import ConvModule"
   ]
  },
  {
   "cell_type": "code",
   "execution_count": 23,
   "id": "53f5df48",
   "metadata": {},
   "outputs": [],
   "source": [
    "class FPN(nn.Module):\n",
    "    \n",
    "    def __init__(self,\n",
    "                in_channels,\n",
    "                channels,\n",
    "                conf_cfg=None,\n",
    "                norm_cfg=None,\n",
    "                act_cfg=None,\n",
    "                ):\n",
    "        super().__init__()\n",
    "        self.lateral_convs=nn.ModuleList()\n",
    "        self.fpn_conv =nn.ModuleList()\n",
    "        self.in_channels=in_channels\n",
    "        for i in range(len(in_channels)):\n",
    "            self.lateral_convs.append(\n",
    "                ConvModule(in_channels[i],\n",
    "                           channels,1,\n",
    "                           conv_cfg=conf_cfg,\n",
    "                           norm_cfg=norm_cfg,\n",
    "                           act_cfg=None))\n",
    "        for i in range(len(in_channels)):\n",
    "            self.fpn_conv.append(\n",
    "                ConvModule(channels,\n",
    "                           channels,3,1,1,\n",
    "                           conv_cfg=conf_cfg,\n",
    "                           norm_cfg=norm_cfg,\n",
    "                           act_cfg=None))\n",
    "    def forward(self,x):\n",
    "        out = x\n",
    "        for i in range(len(self.in_channels)):\n",
    "            out[i] = self.lateral_convs[i](out[i])\n",
    "        for j in range(len(self.in_channels)-2,-1,-1):\n",
    "            pre_size = out[j].shape[2:]\n",
    "            out[j]=out[j]+ F.interpolate(out[j+1],size=pre_size)\n",
    "        for i in range(len(self.in_channels)):\n",
    "            out[i] = self.fpn_conv[i](out[i])\n",
    "        \n",
    "        return out"
   ]
  },
  {
   "cell_type": "code",
   "execution_count": 24,
   "id": "fe1964dd",
   "metadata": {},
   "outputs": [],
   "source": [
    "fpn = FPN([2, 3, 5, 7],11)"
   ]
  },
  {
   "cell_type": "code",
   "execution_count": 25,
   "id": "0590b1b6",
   "metadata": {},
   "outputs": [],
   "source": [
    "x = [torch.randn(1,64,112,112),torch.randn(1,128,56,56),torch.randn(1,256,28,28),torch.randn(1,512,14,14)]\n",
    "fpn.eval()\n",
    "torch.onnx.export(fpn,inputs,'fpn.onnx',11)"
   ]
  },
  {
   "cell_type": "code",
   "execution_count": null,
   "id": "873af784",
   "metadata": {},
   "outputs": [],
   "source": []
  }
 ],
 "metadata": {
  "kernelspec": {
   "display_name": "Python 3 (ipykernel)",
   "language": "python",
   "name": "python3"
  },
  "language_info": {
   "codemirror_mode": {
    "name": "ipython",
    "version": 3
   },
   "file_extension": ".py",
   "mimetype": "text/x-python",
   "name": "python",
   "nbconvert_exporter": "python",
   "pygments_lexer": "ipython3",
   "version": "3.8.8"
  }
 },
 "nbformat": 4,
 "nbformat_minor": 5
}
