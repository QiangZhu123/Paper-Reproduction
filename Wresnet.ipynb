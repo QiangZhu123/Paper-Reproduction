{
 "cells": [
  {
   "cell_type": "code",
   "execution_count": 1,
   "id": "46035322",
   "metadata": {},
   "outputs": [],
   "source": [
    "import torch\n",
    "from torchvision import models\n",
    "import onnx\n",
    "import numpy as np\n",
    "from torch import nn"
   ]
  },
  {
   "cell_type": "code",
   "execution_count": 3,
   "id": "dc29e08a",
   "metadata": {},
   "outputs": [],
   "source": [
    "wrn = models.wide_resnet50_2(pretrained=False)\n",
    "x= torch.randn(1,3,224,224)\n",
    "wrn.eval()\n",
    "torch.onnx.export(wrn,x,'wrn.onnx',input_names=['inputs'],dynamic_axes={'inputs':{0:'batch'}})"
   ]
  },
  {
   "cell_type": "code",
   "execution_count": 9,
   "id": "78217fcc",
   "metadata": {},
   "outputs": [],
   "source": [
    "class BasicBlock(nn.Module):\n",
    "    def __init__(self,ins):\n",
    "        super().__init__()\n",
    "        mid = ins>>1\n",
    "        self.conv1x1_1 =nn.Conv2d(ins,mid,kernel_size=1,padding=0,stride=1) \n",
    "        self.conv3x3 = nn.Conv2d(mid,mid,kernel_size=3,padding=1,stride=1)\n",
    "        self.conv1x1_2 = nn.Conv2d(mid,ins,kernel_size=1,padding=0,stride=1) \n",
    "        self.act = nn.ReLU()\n",
    "    def forward(self,x):\n",
    "        residual = x\n",
    "        out = self.conv1x1_1(x)\n",
    "        out = self.act(out)\n",
    "        out = self.conv3x3(out)\n",
    "        out =self.act(out)\n",
    "        out = self.conv1x1_2(out)\n",
    "        return self.act(residual+out)\n",
    "class BottleBlock(nn.Module):\n",
    "    def __init__(self,ins,mids,outs):\n",
    "        super().__init__()\n",
    "        self.conv1x1_1 =nn.Conv2d(ins,mids,kernel_size=1,padding=0,stride=1) \n",
    "        self.conv3x3 = nn.Conv2d(mids,mids,kernel_size=3,padding=1,stride=1)\n",
    "        self.conv1x1_2 = nn.Conv2d(mids,outs,kernel_size=1,padding=0,stride=1) \n",
    "        self.l = nn.Conv2d(ins,outs,kernel_size=1,padding=0,stride=1) \n",
    "        self.act = nn.ReLU()\n",
    "    def forward(self,x):\n",
    "        residual = x\n",
    "        out = self.conv1x1_1(x)\n",
    "        out = self.act(out)\n",
    "        out = self.conv3x3(out)\n",
    "        out =self.act(out)\n",
    "        out = self.conv1x1_2(out)\n",
    "        return self.act(self.l(residual)+out)\n",
    "class ConvBlock(nn.Module):\n",
    "    def __init__(self,ins,outs,k,s,p):\n",
    "        super().__init__()\n",
    "        self.conv=nn.Conv2d(ins,outs,kernel_size=k,stride=s,padding=p)\n",
    "        self.act =nn.ReLU()\n",
    "        self.pool = nn.MaxPool2d(kernel_size=3,padding=1,stride=2)\n",
    "    def forward(self,x):\n",
    "        out = self.conv(x)\n",
    "        out = self.act(out)\n",
    "        out = self.pool(out)\n",
    "        return out"
   ]
  },
  {
   "cell_type": "code",
   "execution_count": 15,
   "id": "de1a31b4",
   "metadata": {},
   "outputs": [],
   "source": [
    "class Mywrn(nn.Module):\n",
    "    def __init__(self,n_classes):\n",
    "        super().__init__()\n",
    "        self.stem =  ConvBlock(3,64,7,3,2)\n",
    "        block1 =[ BottleBlock(64,128,256),BasicBlock(256),BasicBlock(256)]\n",
    "        block2= [ BottleBlock(256,256,512),BasicBlock(512),BasicBlock(512),BasicBlock(512)]\n",
    "        block3= [ BottleBlock(512,512,1024),BasicBlock(1024),BasicBlock(1024),BasicBlock(1024),BasicBlock(1024),BasicBlock(1024)]\n",
    "        block4 = [BottleBlock(1024,1024,2048),BasicBlock(2048),BasicBlock(2048)]\n",
    "        block = []\n",
    "        for i in [block1,block2,block3,block4]:\n",
    "            block.extend(i)\n",
    "        self.backbone = nn.Sequential(*block)\n",
    "        self.fc = nn.Linear(2048,n_classes)\n",
    "    def forward(self,x):\n",
    "        out = self.stem(x)\n",
    "        out = self.backbone(out)\n",
    "        out = nn.AdaptiveAvgPool2d(1)(out)\n",
    "        out =nn.Flatten()(out)\n",
    "        out = self.fc(out)\n",
    "        return out"
   ]
  },
  {
   "cell_type": "code",
   "execution_count": 16,
   "id": "d2c7abe8",
   "metadata": {},
   "outputs": [],
   "source": [
    "test=Mywrn(1000)"
   ]
  },
  {
   "cell_type": "code",
   "execution_count": 18,
   "id": "ad7b4fe9",
   "metadata": {},
   "outputs": [],
   "source": [
    "test.eval()\n",
    "x = torch.randn(1,3,224,224)\n",
    "\n",
    "torch.onnx.export(test,x,'mywrn.onnx',input_names=['inputs'],dynamic_axes={'inputs':{0:'batch'}})"
   ]
  },
  {
   "cell_type": "code",
   "execution_count": null,
   "id": "c3165b7a",
   "metadata": {},
   "outputs": [],
   "source": []
  }
 ],
 "metadata": {
  "kernelspec": {
   "display_name": "Python 3 (ipykernel)",
   "language": "python",
   "name": "python3"
  },
  "language_info": {
   "codemirror_mode": {
    "name": "ipython",
    "version": 3
   },
   "file_extension": ".py",
   "mimetype": "text/x-python",
   "name": "python",
   "nbconvert_exporter": "python",
   "pygments_lexer": "ipython3",
   "version": "3.8.8"
  }
 },
 "nbformat": 4,
 "nbformat_minor": 5
}
